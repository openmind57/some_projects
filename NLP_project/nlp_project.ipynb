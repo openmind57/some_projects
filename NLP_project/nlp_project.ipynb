{
  "cells": [
    {
      "cell_type": "markdown",
      "metadata": {
        "id": "5O5BJMJA3lJY"
      },
      "source": [
        "Проект: классификация токсичных комментариев (F1 ≥ 0.75)\n",
        "\n",
        "Данные: загрузить toxic_comments.csv, почистить текст, разбить на train/val/test.\n",
        "\n",
        "Признаки: TF-IDF (n-граммы) или предобученные эмбеддинги.\n",
        "\n",
        "Модели: логрег, SVM, LightGBM (+ опционально BERT-финетюнинг) с подбором гиперпараметров.\n",
        "\n",
        "Оценка: добиться F1 ≥ 0.75 на валидации, проверить на тесте.\n",
        "\n",
        "\n",
        "\n",
        "\n",
        "\n",
        "\n",
        "\n",
        "\n",
        "\n",
        "Спросить ChatGPT\n"
      ]
    },
    {
      "cell_type": "markdown",
      "metadata": {
        "id": "_jODmoG53lJZ"
      },
      "source": [
        "## Подготовка"
      ]
    },
    {
      "cell_type": "code",
      "execution_count": null,
      "metadata": {
        "id": "wiKDR-zf4zYV"
      },
      "outputs": [],
      "source": [
        "# from google.colab import drive\n",
        "# drive.mount('/content/drive')"
      ]
    },
    {
      "cell_type": "code",
      "execution_count": null,
      "metadata": {
        "execution": {
          "iopub.execute_input": "2024-04-07T12:06:56.771961Z",
          "iopub.status.busy": "2024-04-07T12:06:56.771572Z",
          "iopub.status.idle": "2024-04-07T12:06:56.780728Z",
          "shell.execute_reply": "2024-04-07T12:06:56.779831Z",
          "shell.execute_reply.started": "2024-04-07T12:06:56.771926Z"
        },
        "id": "Gm8M36fV3lJZ"
      },
      "outputs": [],
      "source": [
        "import pandas as pd\n",
        "import numpy as np\n",
        "import nltk\n",
        "from nltk.corpus import stopwords\n",
        "from nltk.tokenize import word_tokenize, sent_tokenize\n",
        "import re\n",
        "import string\n",
        "import subprocess\n",
        "from sklearn.feature_extraction.text import TfidfVectorizer\n",
        "from sklearn.model_selection import train_test_split, GridSearchCV\n",
        "from sklearn.metrics import f1_score\n",
        "from sklearn import svm\n",
        "from sklearn.linear_model import SGDClassifier, LogisticRegression\n",
        "from transformers import RobertaTokenizer, RobertaForSequenceClassification\n",
        "import torch\n",
        "from torch.nn.functional import softmax\n",
        "from tqdm.auto import tqdm\n",
        "import gensim.downloader as api\n",
        "from gensim.models import Word2Vec\n",
        "from transformers import AutoTokenizer, AutoModelForSequenceClassification\n",
        "from transformers import BertModel, BertTokenizer\n",
        "import gc\n",
        "from collections import Counter\n",
        "from tqdm import notebook\n",
        "from sklearn.neighbors import KNeighborsClassifier\n",
        "\n",
        "tqdm.pandas()\n",
        "device = torch.device(\"cuda\" if torch.cuda.is_available() else \"cpu\")\n"
      ]
    },
    {
      "cell_type": "code",
      "execution_count": null,
      "metadata": {
        "execution": {
          "iopub.execute_input": "2024-04-07T12:06:57.118440Z",
          "iopub.status.busy": "2024-04-07T12:06:57.117244Z",
          "iopub.status.idle": "2024-04-07T12:06:58.067801Z",
          "shell.execute_reply": "2024-04-07T12:06:58.066916Z",
          "shell.execute_reply.started": "2024-04-07T12:06:57.118389Z"
        },
        "id": "3gAAo7h93lJa"
      },
      "outputs": [],
      "source": [
        "try:\n",
        "    df = pd.read_csv('/datasets/toxic_comments.csv')\n",
        "except:\n",
        "    df = pd.read_csv('/kaggle/input/toxic-c/toxic_comments.csv')"
      ]
    },
    {
      "cell_type": "code",
      "execution_count": null,
      "metadata": {
        "colab": {
          "base_uri": "https://localhost:8080/",
          "height": 423
        },
        "execution": {
          "iopub.execute_input": "2024-04-07T12:06:58.069759Z",
          "iopub.status.busy": "2024-04-07T12:06:58.069448Z",
          "iopub.status.idle": "2024-04-07T12:06:58.081591Z",
          "shell.execute_reply": "2024-04-07T12:06:58.080572Z",
          "shell.execute_reply.started": "2024-04-07T12:06:58.069733Z"
        },
        "id": "Krnf-19s3lJa",
        "outputId": "f4dfaa29-af10-496e-8711-61bba40264e9"
      },
      "outputs": [
        {
          "data": {
            "text/html": [
              "<div>\n",
              "<style scoped>\n",
              "    .dataframe tbody tr th:only-of-type {\n",
              "        vertical-align: middle;\n",
              "    }\n",
              "\n",
              "    .dataframe tbody tr th {\n",
              "        vertical-align: top;\n",
              "    }\n",
              "\n",
              "    .dataframe thead th {\n",
              "        text-align: right;\n",
              "    }\n",
              "</style>\n",
              "<table border=\"1\" class=\"dataframe\">\n",
              "  <thead>\n",
              "    <tr style=\"text-align: right;\">\n",
              "      <th></th>\n",
              "      <th>Unnamed: 0</th>\n",
              "      <th>text</th>\n",
              "      <th>toxic</th>\n",
              "    </tr>\n",
              "  </thead>\n",
              "  <tbody>\n",
              "    <tr>\n",
              "      <th>0</th>\n",
              "      <td>0</td>\n",
              "      <td>Explanation\\nWhy the edits made under my usern...</td>\n",
              "      <td>0</td>\n",
              "    </tr>\n",
              "    <tr>\n",
              "      <th>1</th>\n",
              "      <td>1</td>\n",
              "      <td>D'aww! He matches this background colour I'm s...</td>\n",
              "      <td>0</td>\n",
              "    </tr>\n",
              "    <tr>\n",
              "      <th>2</th>\n",
              "      <td>2</td>\n",
              "      <td>Hey man, I'm really not trying to edit war. It...</td>\n",
              "      <td>0</td>\n",
              "    </tr>\n",
              "    <tr>\n",
              "      <th>3</th>\n",
              "      <td>3</td>\n",
              "      <td>\"\\nMore\\nI can't make any real suggestions on ...</td>\n",
              "      <td>0</td>\n",
              "    </tr>\n",
              "    <tr>\n",
              "      <th>4</th>\n",
              "      <td>4</td>\n",
              "      <td>You, sir, are my hero. Any chance you remember...</td>\n",
              "      <td>0</td>\n",
              "    </tr>\n",
              "    <tr>\n",
              "      <th>...</th>\n",
              "      <td>...</td>\n",
              "      <td>...</td>\n",
              "      <td>...</td>\n",
              "    </tr>\n",
              "    <tr>\n",
              "      <th>159287</th>\n",
              "      <td>159446</td>\n",
              "      <td>\":::::And for the second time of asking, when ...</td>\n",
              "      <td>0</td>\n",
              "    </tr>\n",
              "    <tr>\n",
              "      <th>159288</th>\n",
              "      <td>159447</td>\n",
              "      <td>You should be ashamed of yourself \\n\\nThat is ...</td>\n",
              "      <td>0</td>\n",
              "    </tr>\n",
              "    <tr>\n",
              "      <th>159289</th>\n",
              "      <td>159448</td>\n",
              "      <td>Spitzer \\n\\nUmm, theres no actual article for ...</td>\n",
              "      <td>0</td>\n",
              "    </tr>\n",
              "    <tr>\n",
              "      <th>159290</th>\n",
              "      <td>159449</td>\n",
              "      <td>And it looks like it was actually you who put ...</td>\n",
              "      <td>0</td>\n",
              "    </tr>\n",
              "    <tr>\n",
              "      <th>159291</th>\n",
              "      <td>159450</td>\n",
              "      <td>\"\\nAnd ... I really don't think you understand...</td>\n",
              "      <td>0</td>\n",
              "    </tr>\n",
              "  </tbody>\n",
              "</table>\n",
              "<p>159292 rows × 3 columns</p>\n",
              "</div>"
            ],
            "text/plain": [
              "        Unnamed: 0                                               text  toxic\n",
              "0                0  Explanation\\nWhy the edits made under my usern...      0\n",
              "1                1  D'aww! He matches this background colour I'm s...      0\n",
              "2                2  Hey man, I'm really not trying to edit war. It...      0\n",
              "3                3  \"\\nMore\\nI can't make any real suggestions on ...      0\n",
              "4                4  You, sir, are my hero. Any chance you remember...      0\n",
              "...            ...                                                ...    ...\n",
              "159287      159446  \":::::And for the second time of asking, when ...      0\n",
              "159288      159447  You should be ashamed of yourself \\n\\nThat is ...      0\n",
              "159289      159448  Spitzer \\n\\nUmm, theres no actual article for ...      0\n",
              "159290      159449  And it looks like it was actually you who put ...      0\n",
              "159291      159450  \"\\nAnd ... I really don't think you understand...      0\n",
              "\n",
              "[159292 rows x 3 columns]"
            ]
          },
          "execution_count": 11,
          "metadata": {},
          "output_type": "execute_result"
        }
      ],
      "source": [
        "df"
      ]
    },
    {
      "cell_type": "code",
      "execution_count": null,
      "metadata": {
        "execution": {
          "iopub.execute_input": "2024-04-07T12:06:58.083103Z",
          "iopub.status.busy": "2024-04-07T12:06:58.082782Z",
          "iopub.status.idle": "2024-04-07T12:06:58.120866Z",
          "shell.execute_reply": "2024-04-07T12:06:58.119633Z",
          "shell.execute_reply.started": "2024-04-07T12:06:58.083078Z"
        },
        "id": "5zju8r5P6Y3y",
        "outputId": "58db7c21-26cb-4d52-f46c-45ad72ce23a1"
      },
      "outputs": [
        {
          "name": "stdout",
          "output_type": "stream",
          "text": [
            "<class 'pandas.core.frame.DataFrame'>\n",
            "RangeIndex: 159292 entries, 0 to 159291\n",
            "Data columns (total 3 columns):\n",
            " #   Column      Non-Null Count   Dtype \n",
            "---  ------      --------------   ----- \n",
            " 0   Unnamed: 0  159292 non-null  int64 \n",
            " 1   text        159292 non-null  object\n",
            " 2   toxic       159292 non-null  int64 \n",
            "dtypes: int64(2), object(1)\n",
            "memory usage: 3.6+ MB\n"
          ]
        }
      ],
      "source": [
        "df.info()"
      ]
    },
    {
      "cell_type": "code",
      "execution_count": null,
      "metadata": {
        "execution": {
          "iopub.execute_input": "2024-04-07T12:06:58.377363Z",
          "iopub.status.busy": "2024-04-07T12:06:58.376476Z",
          "iopub.status.idle": "2024-04-07T12:06:58.387141Z",
          "shell.execute_reply": "2024-04-07T12:06:58.386063Z",
          "shell.execute_reply.started": "2024-04-07T12:06:58.377327Z"
        },
        "id": "na4Z5UrhamsT",
        "outputId": "5b76a575-76fb-4088-f03b-0565ef4af2b4"
      },
      "outputs": [
        {
          "name": "stdout",
          "output_type": "stream",
          "text": [
            "Thanks, gents, I'll try the second option. Cheers\n"
          ]
        }
      ],
      "source": [
        "print(df['text'].sample(1).item())"
      ]
    },
    {
      "cell_type": "markdown",
      "metadata": {
        "id": "W87G1kRzamsT"
      },
      "source": [
        "Как видно, в датафрейме действительно текст."
      ]
    },
    {
      "cell_type": "markdown",
      "metadata": {
        "id": "b4d__Xg6amsU"
      },
      "source": [
        "<div class=\"alert alert-block alert-success\">\n",
        "<b>Успех:</b> Данные загружены корреткно.\n",
        "</div>"
      ]
    },
    {
      "cell_type": "markdown",
      "metadata": {
        "id": "sqTMrDjp3lJc"
      },
      "source": [
        "## Обучение"
      ]
    },
    {
      "cell_type": "code",
      "execution_count": null,
      "metadata": {
        "execution": {
          "iopub.execute_input": "2024-04-07T12:07:00.204061Z",
          "iopub.status.busy": "2024-04-07T12:07:00.203512Z",
          "iopub.status.idle": "2024-04-07T12:07:00.229612Z",
          "shell.execute_reply": "2024-04-07T12:07:00.228827Z",
          "shell.execute_reply.started": "2024-04-07T12:07:00.204027Z"
        },
        "id": "ctjVsY2MamsV"
      },
      "outputs": [],
      "source": [
        "X_train, X_test, y_train, y_test= train_test_split(df['text'], df['toxic'], test_size=0.2, random_state=0)\n"
      ]
    },
    {
      "cell_type": "markdown",
      "metadata": {
        "id": "DjEJYbuha8_B"
      },
      "source": [
        "## TF-IDF"
      ]
    },
    {
      "cell_type": "markdown",
      "metadata": {
        "id": "_W4UVQn9amsV"
      },
      "source": [
        "Начнем с того, что построим эмбеддинги через TF-IDF."
      ]
    },
    {
      "cell_type": "code",
      "execution_count": null,
      "metadata": {
        "execution": {
          "iopub.execute_input": "2024-04-07T12:07:02.670040Z",
          "iopub.status.busy": "2024-04-07T12:07:02.669667Z",
          "iopub.status.idle": "2024-04-07T12:07:02.705166Z",
          "shell.execute_reply": "2024-04-07T12:07:02.704087Z",
          "shell.execute_reply.started": "2024-04-07T12:07:02.670011Z"
        },
        "id": "UNmunVEhamsV",
        "outputId": "548c4b5f-daa6-4211-e2ef-7621b835d18b"
      },
      "outputs": [
        {
          "name": "stdout",
          "output_type": "stream",
          "text": [
            "[nltk_data] Downloading package wordnet to /kaggle/working/...\n",
            "[nltk_data]   Package wordnet is already up-to-date!\n",
            "Archive:  /kaggle/working/corpora/wordnet.zip\n"
          ]
        },
        {
          "name": "stderr",
          "output_type": "stream",
          "text": [
            "replace /kaggle/working/corpora/wordnet/lexnames? [y]es, [n]o, [A]ll, [N]one, [r]ename:  NULL\n",
            "(EOF or read error, treating as \"[N]one\" ...)\n"
          ]
        }
      ],
      "source": [
        "nltk.download('wordnet', download_dir='/kaggle/working/')\n",
        "command = \"unzip /kaggle/working/corpora/wordnet.zip -d /kaggle/working/corpora\"\n",
        "subprocess.run(command.split())\n",
        "nltk.data.path.append('/kaggle/working/')"
      ]
    },
    {
      "cell_type": "markdown",
      "metadata": {
        "id": "VnMk_Y6WamsW"
      },
      "source": [
        "Напишем простой лемматизатор и токенизатор текста."
      ]
    },
    {
      "cell_type": "code",
      "execution_count": null,
      "metadata": {
        "colab": {
          "base_uri": "https://localhost:8080/"
        },
        "execution": {
          "iopub.execute_input": "2024-04-07T12:07:04.481417Z",
          "iopub.status.busy": "2024-04-07T12:07:04.480605Z",
          "iopub.status.idle": "2024-04-07T12:07:04.540706Z",
          "shell.execute_reply": "2024-04-07T12:07:04.539737Z",
          "shell.execute_reply.started": "2024-04-07T12:07:04.481383Z"
        },
        "id": "kXH7LJsL3lJb",
        "outputId": "f535c119-b8b7-4487-c2a7-0c777b8d0f7a"
      },
      "outputs": [
        {
          "name": "stdout",
          "output_type": "stream",
          "text": [
            "[nltk_data] Downloading package wordnet to /kaggle/working/...\n",
            "[nltk_data]   Package wordnet is already up-to-date!\n",
            "[nltk_data] Downloading package punkt to /kaggle/working/...\n",
            "[nltk_data]   Package punkt is already up-to-date!\n",
            "[nltk_data] Downloading package stopwords to /kaggle/working/...\n",
            "[nltk_data]   Package stopwords is already up-to-date!\n"
          ]
        }
      ],
      "source": [
        "nltk.download('wordnet', download_dir='/kaggle/working/')\n",
        "nltk.download('punkt', download_dir='/kaggle/working/')\n",
        "nltk.download('stopwords', download_dir='/kaggle/working/')\n",
        "\n",
        "\n",
        "stopWords = set(stopwords.words('english'))\n",
        "wnl = nltk.WordNetLemmatizer()\n",
        "\n",
        "def preproc_nltk(text):\n",
        "    text = re.sub(f'[{string.punctuation}]', ' ', text)\n",
        "    return ' '.join([wnl.lemmatize(word) for word in word_tokenize(text.lower()) if word not in stopWords])"
      ]
    },
    {
      "cell_type": "code",
      "execution_count": null,
      "metadata": {
        "id": "LAhkES2NamsW"
      },
      "outputs": [],
      "source": []
    },
    {
      "cell_type": "code",
      "execution_count": null,
      "metadata": {
        "execution": {
          "iopub.execute_input": "2024-04-07T12:07:05.462924Z",
          "iopub.status.busy": "2024-04-07T12:07:05.462278Z",
          "iopub.status.idle": "2024-04-07T12:07:07.707695Z",
          "shell.execute_reply": "2024-04-07T12:07:07.706816Z",
          "shell.execute_reply.started": "2024-04-07T12:07:05.462891Z"
        },
        "id": "irL0Vk0iamsW",
        "outputId": "5670a221-4a16-4f0e-e2e2-f7aa71bf36c1"
      },
      "outputs": [
        {
          "name": "stdout",
          "output_type": "stream",
          "text": [
            "snyder ny map look talk\n"
          ]
        }
      ],
      "source": [
        "print(preproc_nltk(np.array(X_train)[0]))"
      ]
    },
    {
      "cell_type": "code",
      "execution_count": null,
      "metadata": {
        "execution": {
          "iopub.execute_input": "2024-04-07T12:07:07.710206Z",
          "iopub.status.busy": "2024-04-07T12:07:07.709526Z",
          "iopub.status.idle": "2024-04-07T12:07:07.720679Z",
          "shell.execute_reply": "2024-04-07T12:07:07.719731Z",
          "shell.execute_reply.started": "2024-04-07T12:07:07.710154Z"
        },
        "id": "DCUnC75damsX",
        "outputId": "6e958c02-7e77-43f5-a995-992ab4ce6959"
      },
      "outputs": [
        {
          "name": "stdout",
          "output_type": "stream",
          "text": [
            "Snyder, NY map \n",
            "\n",
            "I'll look into it.  (talk)\n"
          ]
        }
      ],
      "source": [
        "print(np.array(X_train)[0])"
      ]
    },
    {
      "cell_type": "code",
      "execution_count": null,
      "metadata": {
        "execution": {
          "iopub.execute_input": "2024-04-07T10:57:51.231509Z",
          "iopub.status.busy": "2024-04-07T10:57:51.230636Z",
          "iopub.status.idle": "2024-04-07T10:59:38.289937Z",
          "shell.execute_reply": "2024-04-07T10:59:38.289153Z",
          "shell.execute_reply.started": "2024-04-07T10:57:51.231475Z"
        },
        "id": "xCSsTQQk3lJb"
      },
      "outputs": [],
      "source": [
        "X_train_lem = [preproc_nltk(text) for text in np.array(X_train)]"
      ]
    },
    {
      "cell_type": "code",
      "execution_count": null,
      "metadata": {
        "execution": {
          "iopub.execute_input": "2024-04-07T11:01:33.262715Z",
          "iopub.status.busy": "2024-04-07T11:01:33.262225Z",
          "iopub.status.idle": "2024-04-07T11:03:27.262028Z",
          "shell.execute_reply": "2024-04-07T11:03:27.261162Z",
          "shell.execute_reply.started": "2024-04-07T11:01:33.262676Z"
        },
        "id": "G2GVr2Vy3lJc"
      },
      "outputs": [],
      "source": [
        "vectorizer = TfidfVectorizer(max_df=0.7, max_features=2000, preprocessor=preproc_nltk)\n",
        "vectors = vectorizer.fit_transform(np.array(X_train))"
      ]
    },
    {
      "cell_type": "code",
      "execution_count": null,
      "metadata": {
        "execution": {
          "iopub.execute_input": "2024-04-07T11:03:37.975713Z",
          "iopub.status.busy": "2024-04-07T11:03:37.975323Z",
          "iopub.status.idle": "2024-04-07T11:04:08.452067Z",
          "shell.execute_reply": "2024-04-07T11:04:08.450981Z",
          "shell.execute_reply.started": "2024-04-07T11:03:37.975685Z"
        },
        "id": "J8iBlbM73lJc"
      },
      "outputs": [],
      "source": [
        "dense_vectors = vectors.todense()\n",
        "dense_vectors_test = vectorizer.transform(np.array(X_test)).todense()"
      ]
    },
    {
      "cell_type": "code",
      "execution_count": null,
      "metadata": {
        "colab": {
          "base_uri": "https://localhost:8080/"
        },
        "execution": {
          "iopub.execute_input": "2024-04-07T11:04:08.454016Z",
          "iopub.status.busy": "2024-04-07T11:04:08.453716Z",
          "iopub.status.idle": "2024-04-07T11:04:23.707137Z",
          "shell.execute_reply": "2024-04-07T11:04:23.703549Z",
          "shell.execute_reply.started": "2024-04-07T11:04:08.453991Z"
        },
        "id": "f4TspXxf3lJd",
        "outputId": "28ac8d9a-73db-40fa-de9b-655a1e95e55a"
      },
      "outputs": [
        {
          "name": "stdout",
          "output_type": "stream",
          "text": [
            "0.7266964951528712\n"
          ]
        }
      ],
      "source": [
        "svc = LogisticRegression()\n",
        "svc.fit(np.array(dense_vectors), y_train)\n",
        "print(f1_score(y_test, svc.predict(np.array(dense_vectors_test))))"
      ]
    },
    {
      "cell_type": "markdown",
      "metadata": {
        "id": "K5ObkapTamsY"
      },
      "source": [
        "Добились 0.72 на своих эмбеддингах."
      ]
    },
    {
      "cell_type": "markdown",
      "metadata": {
        "id": "bWZMWN39bDrW"
      },
      "source": [
        "## Pretrained RoBERTa toxicity model"
      ]
    },
    {
      "cell_type": "markdown",
      "metadata": {
        "id": "wyANNt2RamsY"
      },
      "source": []
    },
    {
      "cell_type": "markdown",
      "metadata": {
        "id": "ruonIvMsamsZ"
      },
      "source": [
        "Попробуем импортировать готовую модель оценки токсичности."
      ]
    },
    {
      "cell_type": "code",
      "execution_count": null,
      "metadata": {
        "colab": {
          "base_uri": "https://localhost:8080/",
          "referenced_widgets": [
            "ea66900e4b10457aa2647d581ddf2e61",
            "ed58a6279a374ba59320e9d43f1c9dda",
            "d5984c89009540628bbbbecca8f38ef8",
            "6248072e805b474095cc27935c83a01c",
            "2e8fbac6efef48d0a9d9b0346790ed76",
            "847f0df084ca424088a4c53b828dcace"
          ]
        },
        "execution": {
          "iopub.execute_input": "2024-04-07T12:07:11.712593Z",
          "iopub.status.busy": "2024-04-07T12:07:11.712213Z",
          "iopub.status.idle": "2024-04-07T12:07:18.034347Z",
          "shell.execute_reply": "2024-04-07T12:07:18.033299Z",
          "shell.execute_reply.started": "2024-04-07T12:07:11.712565Z"
        },
        "id": "veR4qrWZ-52w",
        "outputId": "fdbaa0dd-f438-4a89-8581-2e2d1bcb057a"
      },
      "outputs": [
        {
          "data": {
            "application/vnd.jupyter.widget-view+json": {
              "model_id": "ea66900e4b10457aa2647d581ddf2e61",
              "version_major": 2,
              "version_minor": 0
            },
            "text/plain": [
              "tokenizer_config.json:   0%|          | 0.00/25.0 [00:00<?, ?B/s]"
            ]
          },
          "metadata": {},
          "output_type": "display_data"
        },
        {
          "data": {
            "application/vnd.jupyter.widget-view+json": {
              "model_id": "ed58a6279a374ba59320e9d43f1c9dda",
              "version_major": 2,
              "version_minor": 0
            },
            "text/plain": [
              "vocab.json:   0%|          | 0.00/798k [00:00<?, ?B/s]"
            ]
          },
          "metadata": {},
          "output_type": "display_data"
        },
        {
          "data": {
            "application/vnd.jupyter.widget-view+json": {
              "model_id": "d5984c89009540628bbbbecca8f38ef8",
              "version_major": 2,
              "version_minor": 0
            },
            "text/plain": [
              "merges.txt:   0%|          | 0.00/456k [00:00<?, ?B/s]"
            ]
          },
          "metadata": {},
          "output_type": "display_data"
        },
        {
          "data": {
            "application/vnd.jupyter.widget-view+json": {
              "model_id": "6248072e805b474095cc27935c83a01c",
              "version_major": 2,
              "version_minor": 0
            },
            "text/plain": [
              "special_tokens_map.json:   0%|          | 0.00/239 [00:00<?, ?B/s]"
            ]
          },
          "metadata": {},
          "output_type": "display_data"
        },
        {
          "data": {
            "application/vnd.jupyter.widget-view+json": {
              "model_id": "2e8fbac6efef48d0a9d9b0346790ed76",
              "version_major": 2,
              "version_minor": 0
            },
            "text/plain": [
              "config.json:   0%|          | 0.00/794 [00:00<?, ?B/s]"
            ]
          },
          "metadata": {},
          "output_type": "display_data"
        },
        {
          "data": {
            "application/vnd.jupyter.widget-view+json": {
              "model_id": "847f0df084ca424088a4c53b828dcace",
              "version_major": 2,
              "version_minor": 0
            },
            "text/plain": [
              "pytorch_model.bin:   0%|          | 0.00/501M [00:00<?, ?B/s]"
            ]
          },
          "metadata": {},
          "output_type": "display_data"
        },
        {
          "name": "stderr",
          "output_type": "stream",
          "text": [
            "/opt/conda/lib/python3.10/site-packages/torch/_utils.py:831: UserWarning: TypedStorage is deprecated. It will be removed in the future and UntypedStorage will be the only storage class. This should only matter to you if you are using storages directly.  To access UntypedStorage directly, use tensor.untyped_storage() instead of tensor.storage()\n",
            "  return self.fget.__get__(instance, owner)()\n",
            "Some weights of the model checkpoint at SkolkovoInstitute/roberta_toxicity_classifier were not used when initializing RobertaForSequenceClassification: ['roberta.pooler.dense.bias', 'roberta.pooler.dense.weight']\n",
            "- This IS expected if you are initializing RobertaForSequenceClassification from the checkpoint of a model trained on another task or with another architecture (e.g. initializing a BertForSequenceClassification model from a BertForPreTraining model).\n",
            "- This IS NOT expected if you are initializing RobertaForSequenceClassification from the checkpoint of a model that you expect to be exactly identical (initializing a BertForSequenceClassification model from a BertForSequenceClassification model).\n"
          ]
        }
      ],
      "source": [
        "tokenizer = RobertaTokenizer.from_pretrained('SkolkovoInstitute/roberta_toxicity_classifier')\n",
        "model = RobertaForSequenceClassification.from_pretrained('SkolkovoInstitute/roberta_toxicity_classifier')\n",
        "model.to(device)\n",
        "model.eval()\n",
        "\n",
        "def evaluate_toxicity(text):\n",
        "    inputs = tokenizer(text, return_tensors='pt', padding=True, truncation=True, max_length=512).to(device)\n",
        "    with torch.no_grad():\n",
        "        logits = model(**inputs).logits\n",
        "    probabilities = softmax(logits, dim=1)\n",
        "    toxic_prob = probabilities[0][1].item()\n",
        "    return toxic_prob\n",
        "\n",
        "\n",
        "\n",
        "\n"
      ]
    },
    {
      "cell_type": "code",
      "execution_count": null,
      "metadata": {
        "colab": {
          "base_uri": "https://localhost:8080/",
          "height": 49,
          "referenced_widgets": [
            "1ee91b64f7c54534bd60346fd89330df",
            "2d3b91a9b60b483ab17dbc817ec06c41",
            "d000b899808c4d54bca3f217c0e9dc64",
            "e1231f85416f40ae9e5e022acdfaa493",
            "5a3be899ba7540e59cf406cce84c9504",
            "d4c05830b0184fa2bf9efdd3013f50f1",
            "96ebfe2c45384a578e472fd84e43ec6e",
            "838cfc8e2d774ffcb0267e631a5915a3",
            "b53dd356c4d844cb808a800878f1cdd0",
            "c8817248caa943cfb28976064838076b",
            "3f72723c2a874786b2b74f6a2d1a5dae",
            "6d07eb6ab919432680fa3f3edbf4093b"
          ]
        },
        "execution": {
          "iopub.execute_input": "2024-04-07T12:07:18.036797Z",
          "iopub.status.busy": "2024-04-07T12:07:18.036427Z",
          "iopub.status.idle": "2024-04-07T12:14:07.573584Z",
          "shell.execute_reply": "2024-04-07T12:14:07.572517Z",
          "shell.execute_reply.started": "2024-04-07T12:07:18.036751Z"
        },
        "id": "nYdIdcFJSmue",
        "outputId": "700cc34f-e48d-4c65-d8be-7d5e1ad76993"
      },
      "outputs": [
        {
          "data": {
            "application/vnd.jupyter.widget-view+json": {
              "model_id": "6d07eb6ab919432680fa3f3edbf4093b",
              "version_major": 2,
              "version_minor": 0
            },
            "text/plain": [
              "  0%|          | 0/31859 [00:00<?, ?it/s]"
            ]
          },
          "metadata": {},
          "output_type": "display_data"
        }
      ],
      "source": [
        "f = X_test.progress_apply(evaluate_toxicity)"
      ]
    },
    {
      "cell_type": "code",
      "execution_count": null,
      "metadata": {
        "colab": {
          "base_uri": "https://localhost:8080/"
        },
        "execution": {
          "iopub.execute_input": "2024-04-07T12:14:28.644042Z",
          "iopub.status.busy": "2024-04-07T12:14:28.643553Z",
          "iopub.status.idle": "2024-04-07T12:14:28.672534Z",
          "shell.execute_reply": "2024-04-07T12:14:28.671486Z",
          "shell.execute_reply.started": "2024-04-07T12:14:28.644009Z"
        },
        "id": "7FnokRaTaNlf",
        "outputId": "e9fad4d8-a270-4828-d433-6bf03461ef79"
      },
      "outputs": [
        {
          "name": "stdout",
          "output_type": "stream",
          "text": [
            "0.8607594936708861\n"
          ]
        }
      ],
      "source": [
        "print(f1_score(y_test, f > 0.5))"
      ]
    },
    {
      "cell_type": "markdown",
      "metadata": {
        "id": "aCPXOJS5ac8k"
      },
      "source": [
        "Как видно задачу мы решили с помощью предобученной модели, проверим другие способы."
      ]
    },
    {
      "cell_type": "markdown",
      "metadata": {
        "id": "iYkyHIjybQ0C"
      },
      "source": [
        "## Glove-200"
      ]
    },
    {
      "cell_type": "markdown",
      "metadata": {
        "id": "I5eWwSoEamsc"
      },
      "source": [
        "Возьмем эмбеддинги построенные на твиттах и посмотрим на результат."
      ]
    },
    {
      "cell_type": "code",
      "execution_count": null,
      "metadata": {
        "colab": {
          "base_uri": "https://localhost:8080/",
          "height": 263
        },
        "execution": {
          "iopub.execute_input": "2024-04-07T12:14:32.871242Z",
          "iopub.status.busy": "2024-04-07T12:14:32.870270Z",
          "iopub.status.idle": "2024-04-07T12:20:01.013002Z",
          "shell.execute_reply": "2024-04-07T12:20:01.012142Z",
          "shell.execute_reply.started": "2024-04-07T12:14:32.871208Z"
        },
        "id": "TTpogpuYbnUX",
        "outputId": "42dfeb39-7561-482c-8c27-83898a6fb77d"
      },
      "outputs": [
        {
          "name": "stdout",
          "output_type": "stream",
          "text": [
            "[===================-------------------------------] 38.2% 290.1/758.5MB downloaded"
          ]
        },
        {
          "name": "stderr",
          "output_type": "stream",
          "text": [
            "IOPub message rate exceeded.\n",
            "The notebook server will temporarily stop sending output\n",
            "to the client in order to avoid crashing it.\n",
            "To change this limit, set the config variable\n",
            "`--NotebookApp.iopub_msg_rate_limit`.\n",
            "\n",
            "Current values:\n",
            "NotebookApp.iopub_msg_rate_limit=1000.0 (msgs/sec)\n",
            "NotebookApp.rate_limit_window=3.0 (secs)\n",
            "\n"
          ]
        },
        {
          "name": "stdout",
          "output_type": "stream",
          "text": [
            "[====================------------------------------] 41.1% 311.7/758.5MB downloaded"
          ]
        },
        {
          "name": "stderr",
          "output_type": "stream",
          "text": [
            "IOPub message rate exceeded.\n",
            "The notebook server will temporarily stop sending output\n",
            "to the client in order to avoid crashing it.\n",
            "To change this limit, set the config variable\n",
            "`--NotebookApp.iopub_msg_rate_limit`.\n",
            "\n",
            "Current values:\n",
            "NotebookApp.iopub_msg_rate_limit=1000.0 (msgs/sec)\n",
            "NotebookApp.rate_limit_window=3.0 (secs)\n",
            "\n"
          ]
        },
        {
          "name": "stdout",
          "output_type": "stream",
          "text": [
            "[=============================---------------------] 59.5% 451.6/758.5MB downloaded"
          ]
        },
        {
          "name": "stderr",
          "output_type": "stream",
          "text": [
            "IOPub message rate exceeded.\n",
            "The notebook server will temporarily stop sending output\n",
            "to the client in order to avoid crashing it.\n",
            "To change this limit, set the config variable\n",
            "`--NotebookApp.iopub_msg_rate_limit`.\n",
            "\n",
            "Current values:\n",
            "NotebookApp.iopub_msg_rate_limit=1000.0 (msgs/sec)\n",
            "NotebookApp.rate_limit_window=3.0 (secs)\n",
            "\n"
          ]
        },
        {
          "name": "stdout",
          "output_type": "stream",
          "text": [
            "[===============================-------------------] 62.5% 474.2/758.5MB downloaded"
          ]
        },
        {
          "name": "stderr",
          "output_type": "stream",
          "text": [
            "IOPub message rate exceeded.\n",
            "The notebook server will temporarily stop sending output\n",
            "to the client in order to avoid crashing it.\n",
            "To change this limit, set the config variable\n",
            "`--NotebookApp.iopub_msg_rate_limit`.\n",
            "\n",
            "Current values:\n",
            "NotebookApp.iopub_msg_rate_limit=1000.0 (msgs/sec)\n",
            "NotebookApp.rate_limit_window=3.0 (secs)\n",
            "\n"
          ]
        },
        {
          "name": "stdout",
          "output_type": "stream",
          "text": [
            "[=================================-----------------] 67.4% 511.4/758.5MB downloaded"
          ]
        },
        {
          "name": "stderr",
          "output_type": "stream",
          "text": [
            "IOPub message rate exceeded.\n",
            "The notebook server will temporarily stop sending output\n",
            "to the client in order to avoid crashing it.\n",
            "To change this limit, set the config variable\n",
            "`--NotebookApp.iopub_msg_rate_limit`.\n",
            "\n",
            "Current values:\n",
            "NotebookApp.iopub_msg_rate_limit=1000.0 (msgs/sec)\n",
            "NotebookApp.rate_limit_window=3.0 (secs)\n",
            "\n"
          ]
        },
        {
          "name": "stdout",
          "output_type": "stream",
          "text": [
            "[===================================---------------] 70.2% 532.6/758.5MB downloaded"
          ]
        },
        {
          "name": "stderr",
          "output_type": "stream",
          "text": [
            "IOPub message rate exceeded.\n",
            "The notebook server will temporarily stop sending output\n",
            "to the client in order to avoid crashing it.\n",
            "To change this limit, set the config variable\n",
            "`--NotebookApp.iopub_msg_rate_limit`.\n",
            "\n",
            "Current values:\n",
            "NotebookApp.iopub_msg_rate_limit=1000.0 (msgs/sec)\n",
            "NotebookApp.rate_limit_window=3.0 (secs)\n",
            "\n"
          ]
        },
        {
          "name": "stdout",
          "output_type": "stream",
          "text": [
            "[=====================================-------------] 75.7% 574.2/758.5MB downloaded"
          ]
        },
        {
          "name": "stderr",
          "output_type": "stream",
          "text": [
            "IOPub message rate exceeded.\n",
            "The notebook server will temporarily stop sending output\n",
            "to the client in order to avoid crashing it.\n",
            "To change this limit, set the config variable\n",
            "`--NotebookApp.iopub_msg_rate_limit`.\n",
            "\n",
            "Current values:\n",
            "NotebookApp.iopub_msg_rate_limit=1000.0 (msgs/sec)\n",
            "NotebookApp.rate_limit_window=3.0 (secs)\n",
            "\n"
          ]
        },
        {
          "name": "stdout",
          "output_type": "stream",
          "text": [
            "[=======================================-----------] 79.6% 603.7/758.5MB downloaded"
          ]
        },
        {
          "name": "stderr",
          "output_type": "stream",
          "text": [
            "IOPub message rate exceeded.\n",
            "The notebook server will temporarily stop sending output\n",
            "to the client in order to avoid crashing it.\n",
            "To change this limit, set the config variable\n",
            "`--NotebookApp.iopub_msg_rate_limit`.\n",
            "\n",
            "Current values:\n",
            "NotebookApp.iopub_msg_rate_limit=1000.0 (msgs/sec)\n",
            "NotebookApp.rate_limit_window=3.0 (secs)\n",
            "\n"
          ]
        },
        {
          "name": "stdout",
          "output_type": "stream",
          "text": [
            "[=========================================---------] 83.9% 636.8/758.5MB downloaded"
          ]
        }
      ],
      "source": [
        "embeddings_pretrained = api.load('glove-twitter-200')"
      ]
    },
    {
      "cell_type": "code",
      "execution_count": null,
      "metadata": {
        "execution": {
          "iopub.execute_input": "2024-04-07T12:22:16.274316Z",
          "iopub.status.busy": "2024-04-07T12:22:16.273595Z",
          "iopub.status.idle": "2024-04-07T12:24:08.659855Z",
          "shell.execute_reply": "2024-04-07T12:24:08.658737Z",
          "shell.execute_reply.started": "2024-04-07T12:22:16.274282Z"
        },
        "id": "PtJA2SsFamsc"
      },
      "outputs": [],
      "source": [
        "proc_words = [preproc_nltk(text).split() for text in X_train]\n"
      ]
    },
    {
      "cell_type": "code",
      "execution_count": null,
      "metadata": {
        "execution": {
          "iopub.execute_input": "2024-04-07T12:24:08.661931Z",
          "iopub.status.busy": "2024-04-07T12:24:08.661584Z",
          "iopub.status.idle": "2024-04-07T12:25:00.484976Z",
          "shell.execute_reply": "2024-04-07T12:25:00.484125Z",
          "shell.execute_reply.started": "2024-04-07T12:24:08.661904Z"
        },
        "id": "q1jCqAdvb4DG"
      },
      "outputs": [],
      "source": [
        "embeddings_trained = Word2Vec(proc_words,vector_size=1000,\n",
        "                  min_count=50,\n",
        "                 window=3).wv"
      ]
    },
    {
      "cell_type": "markdown",
      "metadata": {
        "id": "EYXricWFamsc"
      },
      "source": []
    },
    {
      "cell_type": "code",
      "execution_count": null,
      "metadata": {
        "execution": {
          "iopub.execute_input": "2024-04-07T12:37:13.550230Z",
          "iopub.status.busy": "2024-04-07T12:37:13.549212Z",
          "iopub.status.idle": "2024-04-07T12:37:13.555769Z",
          "shell.execute_reply": "2024-04-07T12:37:13.554737Z",
          "shell.execute_reply.started": "2024-04-07T12:37:13.550194Z"
        },
        "id": "GU3MVZA4dXt4"
      },
      "outputs": [],
      "source": [
        "def vectorize_sum(comment, embeddings):\n",
        "    embedding_dim = embeddings.vectors.shape[1]\n",
        "    features = np.zeros([embedding_dim], dtype='float32')\n",
        "\n",
        "    for word in preproc_nltk(comment).split():\n",
        "        if word in embeddings:\n",
        "            features += embeddings[f'{word}']\n",
        "\n",
        "    return features"
      ]
    },
    {
      "cell_type": "code",
      "execution_count": null,
      "metadata": {
        "colab": {
          "base_uri": "https://localhost:8080/"
        },
        "execution": {
          "iopub.execute_input": "2024-04-07T12:37:14.870071Z",
          "iopub.status.busy": "2024-04-07T12:37:14.869712Z",
          "iopub.status.idle": "2024-04-07T12:39:58.180916Z",
          "shell.execute_reply": "2024-04-07T12:39:58.179723Z",
          "shell.execute_reply.started": "2024-04-07T12:37:14.870046Z"
        },
        "id": "fhq65o0Ydg8t",
        "outputId": "50bc64ff-92ee-4013-e0f1-bcd1a7f606e7"
      },
      "outputs": [
        {
          "data": {
            "text/plain": [
              "((127433, 200), (31859, 200))"
            ]
          },
          "execution_count": 30,
          "metadata": {},
          "output_type": "execute_result"
        }
      ],
      "source": [
        "X_wv = np.stack([vectorize_sum(text, embeddings_pretrained) for text in df['text']])\n",
        "X_train_wv, X_test_wv, y_train, y_test = train_test_split(X_wv, df['toxic'], test_size=0.2, random_state=0)\n",
        "X_train_wv.shape, X_test_wv.shape"
      ]
    },
    {
      "cell_type": "code",
      "execution_count": null,
      "metadata": {
        "colab": {
          "base_uri": "https://localhost:8080/"
        },
        "execution": {
          "iopub.execute_input": "2024-04-07T12:39:58.183030Z",
          "iopub.status.busy": "2024-04-07T12:39:58.182717Z",
          "iopub.status.idle": "2024-04-07T12:40:02.962382Z",
          "shell.execute_reply": "2024-04-07T12:40:02.961272Z",
          "shell.execute_reply.started": "2024-04-07T12:39:58.183004Z"
        },
        "id": "8r06TiTteAeA",
        "outputId": "0c74bc84-d808-47b6-a61b-9d50e9d6388d"
      },
      "outputs": [
        {
          "name": "stdout",
          "output_type": "stream",
          "text": [
            "0.6210914740726354\n"
          ]
        },
        {
          "name": "stderr",
          "output_type": "stream",
          "text": [
            "/opt/conda/lib/python3.10/site-packages/sklearn/linear_model/_logistic.py:458: ConvergenceWarning: lbfgs failed to converge (status=1):\n",
            "STOP: TOTAL NO. of ITERATIONS REACHED LIMIT.\n",
            "\n",
            "Increase the number of iterations (max_iter) or scale the data as shown in:\n",
            "    https://scikit-learn.org/stable/modules/preprocessing.html\n",
            "Please also refer to the documentation for alternative solver options:\n",
            "    https://scikit-learn.org/stable/modules/linear_model.html#logistic-regression\n",
            "  n_iter_i = _check_optimize_result(\n"
          ]
        }
      ],
      "source": [
        "svc = LogisticRegression()\n",
        "svc.fit(X_train_wv, y_train)\n",
        "print(f1_score(y_test, svc.predict(X_test_wv)))"
      ]
    },
    {
      "cell_type": "markdown",
      "metadata": {
        "id": "Jy7CEcT8eYGL"
      },
      "source": [
        "Результат незначительно лучше"
      ]
    },
    {
      "cell_type": "markdown",
      "metadata": {
        "id": "6ts3GVMdeom1"
      },
      "source": [
        "## Pretrained XLMR toxicity model"
      ]
    },
    {
      "cell_type": "markdown",
      "metadata": {
        "id": "rwK7zlE8amsd"
      },
      "source": [
        "Возьмем еще одну предобученную модель, на этот раз XLMR."
      ]
    },
    {
      "cell_type": "code",
      "execution_count": null,
      "metadata": {
        "execution": {
          "iopub.execute_input": "2024-04-07T12:40:02.964531Z",
          "iopub.status.busy": "2024-04-07T12:40:02.963848Z",
          "iopub.status.idle": "2024-04-07T12:40:30.320955Z",
          "shell.execute_reply": "2024-04-07T12:40:30.320114Z",
          "shell.execute_reply.started": "2024-04-07T12:40:02.964493Z"
        },
        "id": "33ggqSCpgRSQ",
        "colab": {
          "referenced_widgets": [
            "cb4dc994c21442fba381c3aa813a8d97",
            "de36f53065b24d4d8b921f6796e9fa91",
            "92705eae452d4e4cbcae2366fe512d19",
            "596d3fbf4ebb481a9db69b76cb363a32",
            "e74de16ae2404e74a73f73aea42b49a9",
            "9acd90665e2643b7b5f21ed2455cbb8e"
          ]
        },
        "outputId": "8120ec78-0840-4fe4-e500-489c65439499"
      },
      "outputs": [
        {
          "data": {
            "application/vnd.jupyter.widget-view+json": {
              "model_id": "cb4dc994c21442fba381c3aa813a8d97",
              "version_major": 2,
              "version_minor": 0
            },
            "text/plain": [
              "tokenizer_config.json:   0%|          | 0.00/1.15k [00:00<?, ?B/s]"
            ]
          },
          "metadata": {},
          "output_type": "display_data"
        },
        {
          "data": {
            "application/vnd.jupyter.widget-view+json": {
              "model_id": "de36f53065b24d4d8b921f6796e9fa91",
              "version_major": 2,
              "version_minor": 0
            },
            "text/plain": [
              "sentencepiece.bpe.model:   0%|          | 0.00/5.07M [00:00<?, ?B/s]"
            ]
          },
          "metadata": {},
          "output_type": "display_data"
        },
        {
          "data": {
            "application/vnd.jupyter.widget-view+json": {
              "model_id": "92705eae452d4e4cbcae2366fe512d19",
              "version_major": 2,
              "version_minor": 0
            },
            "text/plain": [
              "tokenizer.json:   0%|          | 0.00/17.1M [00:00<?, ?B/s]"
            ]
          },
          "metadata": {},
          "output_type": "display_data"
        },
        {
          "data": {
            "application/vnd.jupyter.widget-view+json": {
              "model_id": "596d3fbf4ebb481a9db69b76cb363a32",
              "version_major": 2,
              "version_minor": 0
            },
            "text/plain": [
              "special_tokens_map.json:   0%|          | 0.00/280 [00:00<?, ?B/s]"
            ]
          },
          "metadata": {},
          "output_type": "display_data"
        },
        {
          "data": {
            "application/vnd.jupyter.widget-view+json": {
              "model_id": "e74de16ae2404e74a73f73aea42b49a9",
              "version_major": 2,
              "version_minor": 0
            },
            "text/plain": [
              "config.json:   0%|          | 0.00/770 [00:00<?, ?B/s]"
            ]
          },
          "metadata": {},
          "output_type": "display_data"
        },
        {
          "data": {
            "application/vnd.jupyter.widget-view+json": {
              "model_id": "9acd90665e2643b7b5f21ed2455cbb8e",
              "version_major": 2,
              "version_minor": 0
            },
            "text/plain": [
              "model.safetensors:   0%|          | 0.00/1.11G [00:00<?, ?B/s]"
            ]
          },
          "metadata": {},
          "output_type": "display_data"
        }
      ],
      "source": [
        "tokenizer = AutoTokenizer.from_pretrained(\"textdetox/xlmr-large-toxicity-classifier\")\n",
        "model = AutoModelForSequenceClassification.from_pretrained(\"textdetox/xlmr-large-toxicity-classifier\")\n",
        "model.to(device)\n",
        "model.eval()\n",
        "\n",
        "def evaluate_toxicity_xlmr(text):\n",
        "    inputs = tokenizer(text, return_tensors='pt', padding=True, truncation=True, max_length=512).to(device)\n",
        "    with torch.no_grad():\n",
        "        logits = model(**inputs).logits\n",
        "    probabilities = softmax(logits, dim=1)\n",
        "    toxic_prob = probabilities[0][1].item()\n",
        "    return toxic_prob\n",
        "\n",
        "\n",
        "\n",
        "\n"
      ]
    },
    {
      "cell_type": "code",
      "execution_count": null,
      "metadata": {
        "execution": {
          "iopub.execute_input": "2024-04-07T12:40:30.323534Z",
          "iopub.status.busy": "2024-04-07T12:40:30.323224Z",
          "iopub.status.idle": "2024-04-07T12:40:30.333833Z",
          "shell.execute_reply": "2024-04-07T12:40:30.332842Z",
          "shell.execute_reply.started": "2024-04-07T12:40:30.323507Z"
        },
        "id": "dt--22jEyP4b"
      },
      "outputs": [],
      "source": [
        "torch.cuda.empty_cache()\n"
      ]
    },
    {
      "cell_type": "code",
      "execution_count": null,
      "metadata": {
        "colab": {
          "base_uri": "https://localhost:8080/",
          "height": 49,
          "referenced_widgets": [
            "14c7bc0447c3448a95590ff7300c1d2c",
            "f66fbff6b3b047c89da523f709eb8e80",
            "05c8e76570f54b61ac253b96ac0f4c6a",
            "8a89959df07349ca8b83169fa8056b81",
            "c5ccf8157c624c62adb8fba3bd57e49d",
            "5cf2179d15074513b47f42ea02c2362c",
            "3b62949604a04cee953759934b57623f",
            "8e80279b8f63452598433c14d7dbcef9",
            "084e16462fcb4b5382057742a71f2ed3",
            "21f173d0cce34299a5661a6bf12a5431",
            "58c9f6381c064d21bd0d569e7204a085",
            "999e6c1c2ebc4990a55ff557d2ce468f"
          ]
        },
        "execution": {
          "iopub.execute_input": "2024-04-07T12:40:30.335822Z",
          "iopub.status.busy": "2024-04-07T12:40:30.335148Z",
          "iopub.status.idle": "2024-04-07T12:47:05.571304Z",
          "shell.execute_reply": "2024-04-07T12:47:05.570249Z",
          "shell.execute_reply.started": "2024-04-07T12:40:30.335767Z"
        },
        "id": "QvWV-nRwiPLW",
        "outputId": "9a43ed91-0db9-4fec-e54d-8532f12319d2"
      },
      "outputs": [
        {
          "data": {
            "application/vnd.jupyter.widget-view+json": {
              "model_id": "999e6c1c2ebc4990a55ff557d2ce468f",
              "version_major": 2,
              "version_minor": 0
            },
            "text/plain": [
              "  0%|          | 0/31859 [00:00<?, ?it/s]"
            ]
          },
          "metadata": {},
          "output_type": "display_data"
        }
      ],
      "source": [
        "d = X_test.progress_apply(evaluate_toxicity_xlmr)"
      ]
    },
    {
      "cell_type": "code",
      "execution_count": null,
      "metadata": {
        "execution": {
          "iopub.execute_input": "2024-04-07T12:47:38.317084Z",
          "iopub.status.busy": "2024-04-07T12:47:38.316355Z",
          "iopub.status.idle": "2024-04-07T12:47:38.341902Z",
          "shell.execute_reply": "2024-04-07T12:47:38.340939Z",
          "shell.execute_reply.started": "2024-04-07T12:47:38.317050Z"
        },
        "id": "KDCozMEKamse",
        "outputId": "00d1f469-0fa3-4ead-d067-d37d19874483"
      },
      "outputs": [
        {
          "name": "stdout",
          "output_type": "stream",
          "text": [
            "0.6890713834491471\n"
          ]
        }
      ],
      "source": [
        "print(f1_score(y_test, d > 0.5))"
      ]
    },
    {
      "cell_type": "markdown",
      "metadata": {
        "id": "uPj8OcQCamsf"
      },
      "source": [
        "Как видно до нужного результата мы не дотягиваем, так что предлагаю использовать преобученную модель RoBERRT."
      ]
    },
    {
      "cell_type": "markdown",
      "metadata": {
        "id": "eJmkbCFLamsf"
      },
      "source": [
        "### Own BERT Embeddings"
      ]
    },
    {
      "cell_type": "code",
      "execution_count": null,
      "metadata": {
        "execution": {
          "iopub.execute_input": "2024-04-07T12:47:45.919033Z",
          "iopub.status.busy": "2024-04-07T12:47:45.917795Z",
          "iopub.status.idle": "2024-04-07T12:47:49.602295Z",
          "shell.execute_reply": "2024-04-07T12:47:49.601485Z",
          "shell.execute_reply.started": "2024-04-07T12:47:45.918996Z"
        },
        "colab": {
          "referenced_widgets": [
            "82d7aea07a3e414183c031956db75a8e",
            "d6c091099f3342e3b99db134cf1767f9",
            "d2780be3e8ff4450838068aa5f9ad5e8",
            "380cc26891504a808984518c1426a3ec",
            "8adeb6c2fca24ebfa1305532e4f73c6c"
          ]
        },
        "id": "azcid9i4amsf",
        "outputId": "e0fec3dd-2f78-4918-e5ae-b57e0e5f808c"
      },
      "outputs": [
        {
          "data": {
            "application/vnd.jupyter.widget-view+json": {
              "model_id": "82d7aea07a3e414183c031956db75a8e",
              "version_major": 2,
              "version_minor": 0
            },
            "text/plain": [
              "tokenizer_config.json:   0%|          | 0.00/48.0 [00:00<?, ?B/s]"
            ]
          },
          "metadata": {},
          "output_type": "display_data"
        },
        {
          "data": {
            "application/vnd.jupyter.widget-view+json": {
              "model_id": "d6c091099f3342e3b99db134cf1767f9",
              "version_major": 2,
              "version_minor": 0
            },
            "text/plain": [
              "vocab.txt:   0%|          | 0.00/232k [00:00<?, ?B/s]"
            ]
          },
          "metadata": {},
          "output_type": "display_data"
        },
        {
          "data": {
            "application/vnd.jupyter.widget-view+json": {
              "model_id": "d2780be3e8ff4450838068aa5f9ad5e8",
              "version_major": 2,
              "version_minor": 0
            },
            "text/plain": [
              "tokenizer.json:   0%|          | 0.00/466k [00:00<?, ?B/s]"
            ]
          },
          "metadata": {},
          "output_type": "display_data"
        },
        {
          "data": {
            "application/vnd.jupyter.widget-view+json": {
              "model_id": "380cc26891504a808984518c1426a3ec",
              "version_major": 2,
              "version_minor": 0
            },
            "text/plain": [
              "config.json:   0%|          | 0.00/570 [00:00<?, ?B/s]"
            ]
          },
          "metadata": {},
          "output_type": "display_data"
        },
        {
          "data": {
            "application/vnd.jupyter.widget-view+json": {
              "model_id": "8adeb6c2fca24ebfa1305532e4f73c6c",
              "version_major": 2,
              "version_minor": 0
            },
            "text/plain": [
              "model.safetensors:   0%|          | 0.00/440M [00:00<?, ?B/s]"
            ]
          },
          "metadata": {},
          "output_type": "display_data"
        }
      ],
      "source": [
        "tokenizer = BertTokenizer.from_pretrained('bert-base-uncased')\n",
        "model = BertModel.from_pretrained('bert-base-uncased').to(device)"
      ]
    },
    {
      "cell_type": "code",
      "execution_count": null,
      "metadata": {
        "execution": {
          "iopub.execute_input": "2024-04-07T13:16:44.065944Z",
          "iopub.status.busy": "2024-04-07T13:16:44.065296Z",
          "iopub.status.idle": "2024-04-07T13:22:44.807213Z",
          "shell.execute_reply": "2024-04-07T13:22:44.806279Z",
          "shell.execute_reply.started": "2024-04-07T13:16:44.065912Z"
        },
        "id": "FV75B9YRamsf"
      },
      "outputs": [],
      "source": [
        "\n",
        "tokenized = X_train.apply(\n",
        "    lambda x: tokenizer.encode(x, add_special_tokens=True, padding=True, truncation=True, max_length=500))\n",
        "\n",
        "max_len = 0\n",
        "for i in tokenized.values:\n",
        "    if len(i) > max_len:\n",
        "        max_len = len(i)\n",
        "\n",
        "padded = np.array([i + [0]*(max_len - len(i)) for i in tokenized.values])\n",
        "\n",
        "attention_mask = np.where(padded != 0, 1, 0)\n",
        "\n",
        "\n",
        "\n",
        ""
      ]
    },
    {
      "cell_type": "code",
      "execution_count": null,
      "metadata": {
        "execution": {
          "iopub.execute_input": "2024-04-07T13:29:15.202191Z",
          "iopub.status.busy": "2024-04-07T13:29:15.201287Z",
          "iopub.status.idle": "2024-04-07T13:29:15.210162Z",
          "shell.execute_reply": "2024-04-07T13:29:15.209087Z",
          "shell.execute_reply.started": "2024-04-07T13:29:15.202154Z"
        },
        "id": "BgRXk_3Hamsf",
        "outputId": "f6e10301-4156-4e23-d4e1-ae70c9319c41"
      },
      "outputs": [
        {
          "data": {
            "text/plain": [
              "35270         Snyder, NY map \\n\\nI'll look into it.  (talk)\n",
              "23948     \", 24 November 2011 (UTC)\\n\\nMy apology if you...\n",
              "85882                      Newsflash!!  Schuminweb is GAY!!\n",
              "35392            Shut your mouth and stop talking. good boy\n",
              "38364     \"\\n\\n Thanks for the message, I'll admit I was...\n",
              "                                ...                        \n",
              "97639                             Gun Powder Ma]] 09:45, 30\n",
              "95939     What Volumes? \\n\\nFor whoever noted that there...\n",
              "152315    I agree with wikireader, the source Iqinn gave...\n",
              "117952    It has now been a week and a half and not and ...\n",
              "43567     \"\\n\\nWell, let's go through this one-by-one. W...\n",
              "Name: text, Length: 127433, dtype: object"
            ]
          },
          "execution_count": 45,
          "metadata": {},
          "output_type": "execute_result"
        }
      ],
      "source": [
        "X_train"
      ]
    },
    {
      "cell_type": "code",
      "execution_count": null,
      "metadata": {
        "execution": {
          "iopub.execute_input": "2024-04-07T13:29:15.788356Z",
          "iopub.status.busy": "2024-04-07T13:29:15.787990Z",
          "iopub.status.idle": "2024-04-07T14:40:33.328189Z",
          "shell.execute_reply": "2024-04-07T14:40:33.327193Z",
          "shell.execute_reply.started": "2024-04-07T13:29:15.788329Z"
        },
        "colab": {
          "referenced_widgets": [
            "45be8d45011441c69dc6b04186fc8f34"
          ]
        },
        "id": "BiW76ngEamsf",
        "outputId": "0d3c61e6-94a1-4658-9a9a-fa483d22f0f2"
      },
      "outputs": [
        {
          "data": {
            "application/vnd.jupyter.widget-view+json": {
              "model_id": "45be8d45011441c69dc6b04186fc8f34",
              "version_major": 2,
              "version_minor": 0
            },
            "text/plain": [
              "  0%|          | 0/6707 [00:00<?, ?it/s]"
            ]
          },
          "metadata": {},
          "output_type": "display_data"
        }
      ],
      "source": [
        "batch_size = 19\n",
        "embeddings = []\n",
        "for i in notebook.tqdm(range(padded.shape[0] // batch_size)):\n",
        "        batch = torch.LongTensor(padded[batch_size*i:batch_size*(i+1)]).to(device)\n",
        "        attention_mask_batch = torch.LongTensor(attention_mask[batch_size*i:batch_size*(i+1)]).to(device)\n",
        "\n",
        "        with torch.no_grad():\n",
        "            batch_embeddings = model(batch, attention_mask=attention_mask_batch)\n",
        "\n",
        "        embeddings.append(batch_embeddings[0][:,0,:].cpu().numpy())\n"
      ]
    },
    {
      "cell_type": "code",
      "execution_count": null,
      "metadata": {
        "execution": {
          "iopub.execute_input": "2024-04-07T14:40:38.342877Z",
          "iopub.status.busy": "2024-04-07T14:40:38.342496Z",
          "iopub.status.idle": "2024-04-07T14:40:38.473846Z",
          "shell.execute_reply": "2024-04-07T14:40:38.473021Z",
          "shell.execute_reply.started": "2024-04-07T14:40:38.342846Z"
        },
        "id": "6-Ka0Gs6amsg"
      },
      "outputs": [],
      "source": [
        "features_train = np.concatenate(embeddings)\n"
      ]
    },
    {
      "cell_type": "code",
      "execution_count": null,
      "metadata": {
        "execution": {
          "iopub.execute_input": "2024-04-07T14:40:42.403574Z",
          "iopub.status.busy": "2024-04-07T14:40:42.402750Z",
          "iopub.status.idle": "2024-04-07T14:40:42.411088Z",
          "shell.execute_reply": "2024-04-07T14:40:42.410101Z",
          "shell.execute_reply.started": "2024-04-07T14:40:42.403545Z"
        },
        "id": "ExFJFukyamsg",
        "outputId": "54d7a7a7-2f7a-4616-bfe4-94a0da95442a"
      },
      "outputs": [
        {
          "data": {
            "text/plain": [
              "33703     \"\\nWell, since I am blocked, I shall temporari...\n",
              "86675     \"\\n\\nHahahahaha. Typical. \\n\\nThe article is a...\n",
              "47557     Which you made after I was encouraged by a med...\n",
              "96900     I regard you a racist. I will request you be b...\n",
              "66242     \"\\n\\nA broken chair is not a chair\\nA broken c...\n",
              "                                ...                        \n",
              "127382                             |listas = Yury of Moscow\n",
              "94183     January 22, 2007 \\n\\nPlease stop. If you conti...\n",
              "121785                       join the wikipedia vandal club\n",
              "13184          No, because a distinction needs to be drawn.\n",
              "69417       Blue Balls\\n| note19 = featuring Slaughterhouse\n",
              "Name: text, Length: 31859, dtype: object"
            ]
          },
          "execution_count": 48,
          "metadata": {},
          "output_type": "execute_result"
        }
      ],
      "source": [
        "X_test"
      ]
    },
    {
      "cell_type": "code",
      "execution_count": null,
      "metadata": {
        "execution": {
          "iopub.execute_input": "2024-04-07T14:41:45.932697Z",
          "iopub.status.busy": "2024-04-07T14:41:45.931932Z",
          "iopub.status.idle": "2024-04-07T14:41:45.938588Z",
          "shell.execute_reply": "2024-04-07T14:41:45.937680Z",
          "shell.execute_reply.started": "2024-04-07T14:41:45.932667Z"
        },
        "id": "GUhwWeYtamsg",
        "outputId": "d3ac6e38-cc7c-468b-e171-8f0dd107a4f1"
      },
      "outputs": [
        {
          "data": {
            "text/plain": [
              "(127433, 768)"
            ]
          },
          "execution_count": 49,
          "metadata": {},
          "output_type": "execute_result"
        }
      ],
      "source": [
        "features_train.shape"
      ]
    },
    {
      "cell_type": "code",
      "execution_count": null,
      "metadata": {
        "execution": {
          "iopub.execute_input": "2024-04-07T14:42:36.842534Z",
          "iopub.status.busy": "2024-04-07T14:42:36.842153Z",
          "iopub.status.idle": "2024-04-07T15:01:54.972241Z",
          "shell.execute_reply": "2024-04-07T15:01:54.971221Z",
          "shell.execute_reply.started": "2024-04-07T14:42:36.842505Z"
        },
        "colab": {
          "referenced_widgets": [
            "46061d799139457a91f9a935aee6daf0"
          ]
        },
        "id": "qU9UyVmOamsg",
        "outputId": "5a5b67f2-b8f9-4949-b142-a998ba7a33f6"
      },
      "outputs": [
        {
          "data": {
            "application/vnd.jupyter.widget-view+json": {
              "model_id": "46061d799139457a91f9a935aee6daf0",
              "version_major": 2,
              "version_minor": 0
            },
            "text/plain": [
              "  0%|          | 0/1676 [00:00<?, ?it/s]"
            ]
          },
          "metadata": {},
          "output_type": "display_data"
        }
      ],
      "source": [
        "tokenized = X_test.apply(\n",
        "    lambda x: tokenizer.encode(x, add_special_tokens=True, padding=True, truncation=True, max_length=500))\n",
        "\n",
        "max_len = 0\n",
        "for i in tokenized.values:\n",
        "    if len(i) > max_len:\n",
        "        max_len = len(i)\n",
        "\n",
        "padded = np.array([i + [0]*(max_len - len(i)) for i in tokenized.values])\n",
        "\n",
        "attention_mask = np.where(padded != 0, 1, 0)\n",
        "\n",
        "\n",
        "\n",
        "\n",
        "batch_size = 19\n",
        "embeddings = []\n",
        "for i in notebook.tqdm(range(padded.shape[0] // batch_size)):\n",
        "        batch = torch.LongTensor(padded[batch_size*i:batch_size*(i+1)]).to(device)\n",
        "        attention_mask_batch = torch.LongTensor(attention_mask[batch_size*i:batch_size*(i+1)]).to(device)\n",
        "\n",
        "        with torch.no_grad():\n",
        "            batch_embeddings = model(batch, attention_mask=attention_mask_batch)\n",
        "\n",
        "        embeddings.append(batch_embeddings[0][:,0,:].cpu().numpy())\n"
      ]
    },
    {
      "cell_type": "code",
      "execution_count": null,
      "metadata": {
        "execution": {
          "iopub.execute_input": "2024-04-07T15:08:20.360060Z",
          "iopub.status.busy": "2024-04-07T15:08:20.359666Z",
          "iopub.status.idle": "2024-04-07T15:08:20.388707Z",
          "shell.execute_reply": "2024-04-07T15:08:20.387839Z",
          "shell.execute_reply.started": "2024-04-07T15:08:20.360028Z"
        },
        "id": "FbBACbC3amsh"
      },
      "outputs": [],
      "source": [
        "features_valid = np.concatenate(embeddings)\n"
      ]
    },
    {
      "cell_type": "code",
      "execution_count": null,
      "metadata": {
        "execution": {
          "iopub.execute_input": "2024-04-07T15:08:28.351499Z",
          "iopub.status.busy": "2024-04-07T15:08:28.351169Z",
          "iopub.status.idle": "2024-04-07T15:08:28.357697Z",
          "shell.execute_reply": "2024-04-07T15:08:28.356644Z",
          "shell.execute_reply.started": "2024-04-07T15:08:28.351475Z"
        },
        "id": "zvYDAC9Bamsh",
        "outputId": "af05dccf-5775-46af-91b4-f5018649780f"
      },
      "outputs": [
        {
          "data": {
            "text/plain": [
              "(31844, 768)"
            ]
          },
          "execution_count": 53,
          "metadata": {},
          "output_type": "execute_result"
        }
      ],
      "source": [
        "features_valid.shape"
      ]
    },
    {
      "cell_type": "code",
      "execution_count": null,
      "metadata": {
        "execution": {
          "iopub.execute_input": "2024-04-07T15:08:54.389754Z",
          "iopub.status.busy": "2024-04-07T15:08:54.389354Z",
          "iopub.status.idle": "2024-04-07T15:09:03.927602Z",
          "shell.execute_reply": "2024-04-07T15:09:03.926546Z",
          "shell.execute_reply.started": "2024-04-07T15:08:54.389723Z"
        },
        "id": "3Y9rc0Oramsh",
        "outputId": "fd548890-0136-42fd-d9b6-affb4e089932"
      },
      "outputs": [
        {
          "name": "stdout",
          "output_type": "stream",
          "text": [
            "0.7239896818572658\n"
          ]
        },
        {
          "name": "stderr",
          "output_type": "stream",
          "text": [
            "/opt/conda/lib/python3.10/site-packages/sklearn/linear_model/_logistic.py:458: ConvergenceWarning: lbfgs failed to converge (status=1):\n",
            "STOP: TOTAL NO. of ITERATIONS REACHED LIMIT.\n",
            "\n",
            "Increase the number of iterations (max_iter) or scale the data as shown in:\n",
            "    https://scikit-learn.org/stable/modules/preprocessing.html\n",
            "Please also refer to the documentation for alternative solver options:\n",
            "    https://scikit-learn.org/stable/modules/linear_model.html#logistic-regression\n",
            "  n_iter_i = _check_optimize_result(\n"
          ]
        }
      ],
      "source": [
        "svc = LogisticRegression()\n",
        "svc.fit(features_train, y_train)\n",
        "print(f1_score(y_test[:-15], svc.predict(features_valid)))"
      ]
    },
    {
      "cell_type": "markdown",
      "metadata": {
        "id": "vnP5SlC7amsh"
      },
      "source": [
        "Получили самый близкий результат на своих эмбеддингов, но до порога не дотягивает, так что будем использовать RoBERT."
      ]
    },
    {
      "cell_type": "markdown",
      "metadata": {
        "id": "ngiq95w83lJd"
      },
      "source": [
        "## Выводы"
      ]
    },
    {
      "cell_type": "markdown",
      "metadata": {
        "id": "2OCB86ngamsj"
      },
      "source": [
        "По результатам исследования выбираем предобученную модель RoBERT для нашей задачи. Модели построенные на собственных эмбеддингах не оправдали ожидания, а также не оправдало ожиданий и модель архитектуры XLMR. RoBert набрал >0.75 по f1-мере, ее и возьмем."
      ]
    },
    {
      "cell_type": "code",
      "execution_count": null,
      "metadata": {
        "id": "s9O2Sm0Lamsj"
      },
      "outputs": [],
      "source": []
    }
  ],
  "metadata": {
    "ExecuteTimeLog": [
      {
        "duration": 327,
        "start_time": "2024-04-04T16:55:49.632Z"
      },
      {
        "duration": 106,
        "start_time": "2024-04-04T16:57:07.192Z"
      },
      {
        "duration": 2,
        "start_time": "2024-04-04T16:57:09.676Z"
      },
      {
        "duration": 54,
        "start_time": "2024-04-04T16:57:09.932Z"
      },
      {
        "duration": 3166,
        "start_time": "2024-04-04T16:57:21.947Z"
      },
      {
        "duration": 15,
        "start_time": "2024-04-04T16:57:28.146Z"
      },
      {
        "duration": 7,
        "start_time": "2024-04-05T10:26:53.248Z"
      },
      {
        "duration": 3,
        "start_time": "2024-04-05T10:27:04.013Z"
      },
      {
        "duration": 2,
        "start_time": "2024-04-05T10:27:05.568Z"
      },
      {
        "duration": 827,
        "start_time": "2024-04-05T10:27:09.046Z"
      },
      {
        "duration": 2,
        "start_time": "2024-04-05T10:27:48.100Z"
      },
      {
        "duration": 3217,
        "start_time": "2024-04-05T10:27:54.498Z"
      },
      {
        "duration": 14,
        "start_time": "2024-04-05T10:27:57.717Z"
      },
      {
        "duration": 199,
        "start_time": "2024-04-05T10:28:57.298Z"
      },
      {
        "duration": 119,
        "start_time": "2024-04-05T10:29:09.001Z"
      },
      {
        "duration": 3,
        "start_time": "2024-04-05T10:29:44.537Z"
      },
      {
        "duration": 41,
        "start_time": "2024-04-05T10:29:47.406Z"
      },
      {
        "duration": 1229,
        "start_time": "2024-04-05T10:29:49.606Z"
      },
      {
        "duration": 4,
        "start_time": "2024-04-05T10:30:39.878Z"
      },
      {
        "duration": 11,
        "start_time": "2024-04-05T10:30:40.798Z"
      },
      {
        "duration": 3,
        "start_time": "2024-04-05T10:30:49.509Z"
      },
      {
        "duration": 821,
        "start_time": "2024-04-05T10:30:49.718Z"
      },
      {
        "duration": 9,
        "start_time": "2024-04-05T10:30:50.541Z"
      },
      {
        "duration": 13,
        "start_time": "2024-04-05T10:30:50.552Z"
      },
      {
        "duration": 11,
        "start_time": "2024-04-05T10:30:50.759Z"
      },
      {
        "duration": 2,
        "start_time": "2024-04-05T10:30:58.331Z"
      },
      {
        "duration": 866,
        "start_time": "2024-04-05T10:30:58.577Z"
      },
      {
        "duration": 8,
        "start_time": "2024-04-05T10:30:59.445Z"
      },
      {
        "duration": 5,
        "start_time": "2024-04-05T10:30:59.455Z"
      },
      {
        "duration": 5,
        "start_time": "2024-04-05T10:31:00.100Z"
      },
      {
        "duration": 5,
        "start_time": "2024-04-05T10:31:15.991Z"
      },
      {
        "duration": 4,
        "start_time": "2024-04-05T10:31:16.497Z"
      },
      {
        "duration": 3,
        "start_time": "2024-04-05T10:31:31.971Z"
      },
      {
        "duration": 842,
        "start_time": "2024-04-05T10:31:32.203Z"
      },
      {
        "duration": 9,
        "start_time": "2024-04-05T10:31:33.047Z"
      },
      {
        "duration": 22,
        "start_time": "2024-04-05T10:31:33.057Z"
      },
      {
        "duration": 4,
        "start_time": "2024-04-05T10:31:33.536Z"
      },
      {
        "duration": 116131,
        "start_time": "2024-04-05T10:32:07.711Z"
      },
      {
        "duration": 3,
        "start_time": "2024-04-05T10:34:22.440Z"
      },
      {
        "duration": 3,
        "start_time": "2024-04-05T10:34:25.572Z"
      },
      {
        "duration": 4,
        "start_time": "2024-04-05T10:34:55.790Z"
      },
      {
        "duration": 3,
        "start_time": "2024-04-05T10:35:16.899Z"
      },
      {
        "duration": 147443,
        "start_time": "2024-04-05T10:35:58.093Z"
      },
      {
        "duration": 3,
        "start_time": "2024-04-05T10:38:34.411Z"
      },
      {
        "duration": 19,
        "start_time": "2024-04-05T10:38:57.465Z"
      },
      {
        "duration": 630,
        "start_time": "2024-04-05T10:39:38.563Z"
      },
      {
        "duration": 2,
        "start_time": "2024-04-05T10:39:52.962Z"
      },
      {
        "duration": 8,
        "start_time": "2024-04-05T10:40:12.509Z"
      },
      {
        "duration": 239,
        "start_time": "2024-04-05T10:40:15.743Z"
      },
      {
        "duration": 1240,
        "start_time": "2024-04-05T10:41:49.470Z"
      }
    ],
    "accelerator": "GPU",
    "colab": {
      "gpuType": "T4",
      "provenance": []
    },
    "kaggle": {
      "accelerator": "nvidiaTeslaT4",
      "dataSources": [
        {
          "datasetId": 4739906,
          "sourceId": 8039698,
          "sourceType": "datasetVersion"
        }
      ],
      "dockerImageVersionId": 30674,
      "isGpuEnabled": true,
      "isInternetEnabled": true,
      "language": "python",
      "sourceType": "notebook"
    },
    "kernelspec": {
      "display_name": "Python 3 (ipykernel)",
      "language": "python",
      "name": "python3"
    },
    "language_info": {
      "codemirror_mode": {
        "name": "ipython",
        "version": 3
      },
      "file_extension": ".py",
      "mimetype": "text/x-python",
      "name": "python",
      "nbconvert_exporter": "python",
      "pygments_lexer": "ipython3",
      "version": "3.9.5"
    },
    "toc": {
      "base_numbering": 1,
      "nav_menu": {},
      "number_sections": true,
      "sideBar": true,
      "skip_h1_title": true,
      "title_cell": "Содержание",
      "title_sidebar": "Contents",
      "toc_cell": true,
      "toc_position": {
        "height": "calc(100% - 180px)",
        "left": "10px",
        "top": "150px",
        "width": "302.391px"
      },
      "toc_section_display": true,
      "toc_window_display": false
    },
    "widgets": {
      "application/vnd.jupyter.widget-state+json": {
        "05c8e76570f54b61ac253b96ac0f4c6a": {
          "model_module": "@jupyter-widgets/controls",
          "model_module_version": "1.5.0",
          "model_name": "FloatProgressModel",
          "state": {
            "_dom_classes": [],
            "_model_module": "@jupyter-widgets/controls",
            "_model_module_version": "1.5.0",
            "_model_name": "FloatProgressModel",
            "_view_count": null,
            "_view_module": "@jupyter-widgets/controls",
            "_view_module_version": "1.5.0",
            "_view_name": "ProgressView",
            "bar_style": "",
            "description": "",
            "description_tooltip": null,
            "layout": "IPY_MODEL_8e80279b8f63452598433c14d7dbcef9",
            "max": 159292,
            "min": 0,
            "orientation": "horizontal",
            "style": "IPY_MODEL_084e16462fcb4b5382057742a71f2ed3",
            "value": 265
          }
        },
        "084e16462fcb4b5382057742a71f2ed3": {
          "model_module": "@jupyter-widgets/controls",
          "model_module_version": "1.5.0",
          "model_name": "ProgressStyleModel",
          "state": {
            "_model_module": "@jupyter-widgets/controls",
            "_model_module_version": "1.5.0",
            "_model_name": "ProgressStyleModel",
            "_view_count": null,
            "_view_module": "@jupyter-widgets/base",
            "_view_module_version": "1.2.0",
            "_view_name": "StyleView",
            "bar_color": null,
            "description_width": ""
          }
        },
        "14c7bc0447c3448a95590ff7300c1d2c": {
          "model_module": "@jupyter-widgets/controls",
          "model_module_version": "1.5.0",
          "model_name": "HBoxModel",
          "state": {
            "_dom_classes": [],
            "_model_module": "@jupyter-widgets/controls",
            "_model_module_version": "1.5.0",
            "_model_name": "HBoxModel",
            "_view_count": null,
            "_view_module": "@jupyter-widgets/controls",
            "_view_module_version": "1.5.0",
            "_view_name": "HBoxView",
            "box_style": "",
            "children": [
              "IPY_MODEL_f66fbff6b3b047c89da523f709eb8e80",
              "IPY_MODEL_05c8e76570f54b61ac253b96ac0f4c6a",
              "IPY_MODEL_8a89959df07349ca8b83169fa8056b81"
            ],
            "layout": "IPY_MODEL_c5ccf8157c624c62adb8fba3bd57e49d"
          }
        },
        "1ee91b64f7c54534bd60346fd89330df": {
          "model_module": "@jupyter-widgets/controls",
          "model_module_version": "1.5.0",
          "model_name": "HBoxModel",
          "state": {
            "_dom_classes": [],
            "_model_module": "@jupyter-widgets/controls",
            "_model_module_version": "1.5.0",
            "_model_name": "HBoxModel",
            "_view_count": null,
            "_view_module": "@jupyter-widgets/controls",
            "_view_module_version": "1.5.0",
            "_view_name": "HBoxView",
            "box_style": "",
            "children": [
              "IPY_MODEL_2d3b91a9b60b483ab17dbc817ec06c41",
              "IPY_MODEL_d000b899808c4d54bca3f217c0e9dc64",
              "IPY_MODEL_e1231f85416f40ae9e5e022acdfaa493"
            ],
            "layout": "IPY_MODEL_5a3be899ba7540e59cf406cce84c9504"
          }
        },
        "21f173d0cce34299a5661a6bf12a5431": {
          "model_module": "@jupyter-widgets/base",
          "model_module_version": "1.2.0",
          "model_name": "LayoutModel",
          "state": {
            "_model_module": "@jupyter-widgets/base",
            "_model_module_version": "1.2.0",
            "_model_name": "LayoutModel",
            "_view_count": null,
            "_view_module": "@jupyter-widgets/base",
            "_view_module_version": "1.2.0",
            "_view_name": "LayoutView",
            "align_content": null,
            "align_items": null,
            "align_self": null,
            "border": null,
            "bottom": null,
            "display": null,
            "flex": null,
            "flex_flow": null,
            "grid_area": null,
            "grid_auto_columns": null,
            "grid_auto_flow": null,
            "grid_auto_rows": null,
            "grid_column": null,
            "grid_gap": null,
            "grid_row": null,
            "grid_template_areas": null,
            "grid_template_columns": null,
            "grid_template_rows": null,
            "height": null,
            "justify_content": null,
            "justify_items": null,
            "left": null,
            "margin": null,
            "max_height": null,
            "max_width": null,
            "min_height": null,
            "min_width": null,
            "object_fit": null,
            "object_position": null,
            "order": null,
            "overflow": null,
            "overflow_x": null,
            "overflow_y": null,
            "padding": null,
            "right": null,
            "top": null,
            "visibility": null,
            "width": null
          }
        },
        "2d3b91a9b60b483ab17dbc817ec06c41": {
          "model_module": "@jupyter-widgets/controls",
          "model_module_version": "1.5.0",
          "model_name": "HTMLModel",
          "state": {
            "_dom_classes": [],
            "_model_module": "@jupyter-widgets/controls",
            "_model_module_version": "1.5.0",
            "_model_name": "HTMLModel",
            "_view_count": null,
            "_view_module": "@jupyter-widgets/controls",
            "_view_module_version": "1.5.0",
            "_view_name": "HTMLView",
            "description": "",
            "description_tooltip": null,
            "layout": "IPY_MODEL_d4c05830b0184fa2bf9efdd3013f50f1",
            "placeholder": "​",
            "style": "IPY_MODEL_96ebfe2c45384a578e472fd84e43ec6e",
            "value": "100%"
          }
        },
        "3b62949604a04cee953759934b57623f": {
          "model_module": "@jupyter-widgets/controls",
          "model_module_version": "1.5.0",
          "model_name": "DescriptionStyleModel",
          "state": {
            "_model_module": "@jupyter-widgets/controls",
            "_model_module_version": "1.5.0",
            "_model_name": "DescriptionStyleModel",
            "_view_count": null,
            "_view_module": "@jupyter-widgets/base",
            "_view_module_version": "1.2.0",
            "_view_name": "StyleView",
            "description_width": ""
          }
        },
        "3f72723c2a874786b2b74f6a2d1a5dae": {
          "model_module": "@jupyter-widgets/controls",
          "model_module_version": "1.5.0",
          "model_name": "DescriptionStyleModel",
          "state": {
            "_model_module": "@jupyter-widgets/controls",
            "_model_module_version": "1.5.0",
            "_model_name": "DescriptionStyleModel",
            "_view_count": null,
            "_view_module": "@jupyter-widgets/base",
            "_view_module_version": "1.2.0",
            "_view_name": "StyleView",
            "description_width": ""
          }
        },
        "58c9f6381c064d21bd0d569e7204a085": {
          "model_module": "@jupyter-widgets/controls",
          "model_module_version": "1.5.0",
          "model_name": "DescriptionStyleModel",
          "state": {
            "_model_module": "@jupyter-widgets/controls",
            "_model_module_version": "1.5.0",
            "_model_name": "DescriptionStyleModel",
            "_view_count": null,
            "_view_module": "@jupyter-widgets/base",
            "_view_module_version": "1.2.0",
            "_view_name": "StyleView",
            "description_width": ""
          }
        },
        "5a3be899ba7540e59cf406cce84c9504": {
          "model_module": "@jupyter-widgets/base",
          "model_module_version": "1.2.0",
          "model_name": "LayoutModel",
          "state": {
            "_model_module": "@jupyter-widgets/base",
            "_model_module_version": "1.2.0",
            "_model_name": "LayoutModel",
            "_view_count": null,
            "_view_module": "@jupyter-widgets/base",
            "_view_module_version": "1.2.0",
            "_view_name": "LayoutView",
            "align_content": null,
            "align_items": null,
            "align_self": null,
            "border": null,
            "bottom": null,
            "display": null,
            "flex": null,
            "flex_flow": null,
            "grid_area": null,
            "grid_auto_columns": null,
            "grid_auto_flow": null,
            "grid_auto_rows": null,
            "grid_column": null,
            "grid_gap": null,
            "grid_row": null,
            "grid_template_areas": null,
            "grid_template_columns": null,
            "grid_template_rows": null,
            "height": null,
            "justify_content": null,
            "justify_items": null,
            "left": null,
            "margin": null,
            "max_height": null,
            "max_width": null,
            "min_height": null,
            "min_width": null,
            "object_fit": null,
            "object_position": null,
            "order": null,
            "overflow": null,
            "overflow_x": null,
            "overflow_y": null,
            "padding": null,
            "right": null,
            "top": null,
            "visibility": null,
            "width": null
          }
        },
        "5cf2179d15074513b47f42ea02c2362c": {
          "model_module": "@jupyter-widgets/base",
          "model_module_version": "1.2.0",
          "model_name": "LayoutModel",
          "state": {
            "_model_module": "@jupyter-widgets/base",
            "_model_module_version": "1.2.0",
            "_model_name": "LayoutModel",
            "_view_count": null,
            "_view_module": "@jupyter-widgets/base",
            "_view_module_version": "1.2.0",
            "_view_name": "LayoutView",
            "align_content": null,
            "align_items": null,
            "align_self": null,
            "border": null,
            "bottom": null,
            "display": null,
            "flex": null,
            "flex_flow": null,
            "grid_area": null,
            "grid_auto_columns": null,
            "grid_auto_flow": null,
            "grid_auto_rows": null,
            "grid_column": null,
            "grid_gap": null,
            "grid_row": null,
            "grid_template_areas": null,
            "grid_template_columns": null,
            "grid_template_rows": null,
            "height": null,
            "justify_content": null,
            "justify_items": null,
            "left": null,
            "margin": null,
            "max_height": null,
            "max_width": null,
            "min_height": null,
            "min_width": null,
            "object_fit": null,
            "object_position": null,
            "order": null,
            "overflow": null,
            "overflow_x": null,
            "overflow_y": null,
            "padding": null,
            "right": null,
            "top": null,
            "visibility": null,
            "width": null
          }
        },
        "838cfc8e2d774ffcb0267e631a5915a3": {
          "model_module": "@jupyter-widgets/base",
          "model_module_version": "1.2.0",
          "model_name": "LayoutModel",
          "state": {
            "_model_module": "@jupyter-widgets/base",
            "_model_module_version": "1.2.0",
            "_model_name": "LayoutModel",
            "_view_count": null,
            "_view_module": "@jupyter-widgets/base",
            "_view_module_version": "1.2.0",
            "_view_name": "LayoutView",
            "align_content": null,
            "align_items": null,
            "align_self": null,
            "border": null,
            "bottom": null,
            "display": null,
            "flex": null,
            "flex_flow": null,
            "grid_area": null,
            "grid_auto_columns": null,
            "grid_auto_flow": null,
            "grid_auto_rows": null,
            "grid_column": null,
            "grid_gap": null,
            "grid_row": null,
            "grid_template_areas": null,
            "grid_template_columns": null,
            "grid_template_rows": null,
            "height": null,
            "justify_content": null,
            "justify_items": null,
            "left": null,
            "margin": null,
            "max_height": null,
            "max_width": null,
            "min_height": null,
            "min_width": null,
            "object_fit": null,
            "object_position": null,
            "order": null,
            "overflow": null,
            "overflow_x": null,
            "overflow_y": null,
            "padding": null,
            "right": null,
            "top": null,
            "visibility": null,
            "width": null
          }
        },
        "8a89959df07349ca8b83169fa8056b81": {
          "model_module": "@jupyter-widgets/controls",
          "model_module_version": "1.5.0",
          "model_name": "HTMLModel",
          "state": {
            "_dom_classes": [],
            "_model_module": "@jupyter-widgets/controls",
            "_model_module_version": "1.5.0",
            "_model_name": "HTMLModel",
            "_view_count": null,
            "_view_module": "@jupyter-widgets/controls",
            "_view_module_version": "1.5.0",
            "_view_name": "HTMLView",
            "description": "",
            "description_tooltip": null,
            "layout": "IPY_MODEL_21f173d0cce34299a5661a6bf12a5431",
            "placeholder": "​",
            "style": "IPY_MODEL_58c9f6381c064d21bd0d569e7204a085",
            "value": " 265/159292 [01:13&lt;11:30:20,  3.84it/s]"
          }
        },
        "8e80279b8f63452598433c14d7dbcef9": {
          "model_module": "@jupyter-widgets/base",
          "model_module_version": "1.2.0",
          "model_name": "LayoutModel",
          "state": {
            "_model_module": "@jupyter-widgets/base",
            "_model_module_version": "1.2.0",
            "_model_name": "LayoutModel",
            "_view_count": null,
            "_view_module": "@jupyter-widgets/base",
            "_view_module_version": "1.2.0",
            "_view_name": "LayoutView",
            "align_content": null,
            "align_items": null,
            "align_self": null,
            "border": null,
            "bottom": null,
            "display": null,
            "flex": null,
            "flex_flow": null,
            "grid_area": null,
            "grid_auto_columns": null,
            "grid_auto_flow": null,
            "grid_auto_rows": null,
            "grid_column": null,
            "grid_gap": null,
            "grid_row": null,
            "grid_template_areas": null,
            "grid_template_columns": null,
            "grid_template_rows": null,
            "height": null,
            "justify_content": null,
            "justify_items": null,
            "left": null,
            "margin": null,
            "max_height": null,
            "max_width": null,
            "min_height": null,
            "min_width": null,
            "object_fit": null,
            "object_position": null,
            "order": null,
            "overflow": null,
            "overflow_x": null,
            "overflow_y": null,
            "padding": null,
            "right": null,
            "top": null,
            "visibility": null,
            "width": null
          }
        },
        "96ebfe2c45384a578e472fd84e43ec6e": {
          "model_module": "@jupyter-widgets/controls",
          "model_module_version": "1.5.0",
          "model_name": "DescriptionStyleModel",
          "state": {
            "_model_module": "@jupyter-widgets/controls",
            "_model_module_version": "1.5.0",
            "_model_name": "DescriptionStyleModel",
            "_view_count": null,
            "_view_module": "@jupyter-widgets/base",
            "_view_module_version": "1.2.0",
            "_view_name": "StyleView",
            "description_width": ""
          }
        },
        "b53dd356c4d844cb808a800878f1cdd0": {
          "model_module": "@jupyter-widgets/controls",
          "model_module_version": "1.5.0",
          "model_name": "ProgressStyleModel",
          "state": {
            "_model_module": "@jupyter-widgets/controls",
            "_model_module_version": "1.5.0",
            "_model_name": "ProgressStyleModel",
            "_view_count": null,
            "_view_module": "@jupyter-widgets/base",
            "_view_module_version": "1.2.0",
            "_view_name": "StyleView",
            "bar_color": null,
            "description_width": ""
          }
        },
        "c5ccf8157c624c62adb8fba3bd57e49d": {
          "model_module": "@jupyter-widgets/base",
          "model_module_version": "1.2.0",
          "model_name": "LayoutModel",
          "state": {
            "_model_module": "@jupyter-widgets/base",
            "_model_module_version": "1.2.0",
            "_model_name": "LayoutModel",
            "_view_count": null,
            "_view_module": "@jupyter-widgets/base",
            "_view_module_version": "1.2.0",
            "_view_name": "LayoutView",
            "align_content": null,
            "align_items": null,
            "align_self": null,
            "border": null,
            "bottom": null,
            "display": null,
            "flex": null,
            "flex_flow": null,
            "grid_area": null,
            "grid_auto_columns": null,
            "grid_auto_flow": null,
            "grid_auto_rows": null,
            "grid_column": null,
            "grid_gap": null,
            "grid_row": null,
            "grid_template_areas": null,
            "grid_template_columns": null,
            "grid_template_rows": null,
            "height": null,
            "justify_content": null,
            "justify_items": null,
            "left": null,
            "margin": null,
            "max_height": null,
            "max_width": null,
            "min_height": null,
            "min_width": null,
            "object_fit": null,
            "object_position": null,
            "order": null,
            "overflow": null,
            "overflow_x": null,
            "overflow_y": null,
            "padding": null,
            "right": null,
            "top": null,
            "visibility": null,
            "width": null
          }
        },
        "c8817248caa943cfb28976064838076b": {
          "model_module": "@jupyter-widgets/base",
          "model_module_version": "1.2.0",
          "model_name": "LayoutModel",
          "state": {
            "_model_module": "@jupyter-widgets/base",
            "_model_module_version": "1.2.0",
            "_model_name": "LayoutModel",
            "_view_count": null,
            "_view_module": "@jupyter-widgets/base",
            "_view_module_version": "1.2.0",
            "_view_name": "LayoutView",
            "align_content": null,
            "align_items": null,
            "align_self": null,
            "border": null,
            "bottom": null,
            "display": null,
            "flex": null,
            "flex_flow": null,
            "grid_area": null,
            "grid_auto_columns": null,
            "grid_auto_flow": null,
            "grid_auto_rows": null,
            "grid_column": null,
            "grid_gap": null,
            "grid_row": null,
            "grid_template_areas": null,
            "grid_template_columns": null,
            "grid_template_rows": null,
            "height": null,
            "justify_content": null,
            "justify_items": null,
            "left": null,
            "margin": null,
            "max_height": null,
            "max_width": null,
            "min_height": null,
            "min_width": null,
            "object_fit": null,
            "object_position": null,
            "order": null,
            "overflow": null,
            "overflow_x": null,
            "overflow_y": null,
            "padding": null,
            "right": null,
            "top": null,
            "visibility": null,
            "width": null
          }
        },
        "d000b899808c4d54bca3f217c0e9dc64": {
          "model_module": "@jupyter-widgets/controls",
          "model_module_version": "1.5.0",
          "model_name": "FloatProgressModel",
          "state": {
            "_dom_classes": [],
            "_model_module": "@jupyter-widgets/controls",
            "_model_module_version": "1.5.0",
            "_model_name": "FloatProgressModel",
            "_view_count": null,
            "_view_module": "@jupyter-widgets/controls",
            "_view_module_version": "1.5.0",
            "_view_name": "ProgressView",
            "bar_style": "success",
            "description": "",
            "description_tooltip": null,
            "layout": "IPY_MODEL_838cfc8e2d774ffcb0267e631a5915a3",
            "max": 159292,
            "min": 0,
            "orientation": "horizontal",
            "style": "IPY_MODEL_b53dd356c4d844cb808a800878f1cdd0",
            "value": 159292
          }
        },
        "d4c05830b0184fa2bf9efdd3013f50f1": {
          "model_module": "@jupyter-widgets/base",
          "model_module_version": "1.2.0",
          "model_name": "LayoutModel",
          "state": {
            "_model_module": "@jupyter-widgets/base",
            "_model_module_version": "1.2.0",
            "_model_name": "LayoutModel",
            "_view_count": null,
            "_view_module": "@jupyter-widgets/base",
            "_view_module_version": "1.2.0",
            "_view_name": "LayoutView",
            "align_content": null,
            "align_items": null,
            "align_self": null,
            "border": null,
            "bottom": null,
            "display": null,
            "flex": null,
            "flex_flow": null,
            "grid_area": null,
            "grid_auto_columns": null,
            "grid_auto_flow": null,
            "grid_auto_rows": null,
            "grid_column": null,
            "grid_gap": null,
            "grid_row": null,
            "grid_template_areas": null,
            "grid_template_columns": null,
            "grid_template_rows": null,
            "height": null,
            "justify_content": null,
            "justify_items": null,
            "left": null,
            "margin": null,
            "max_height": null,
            "max_width": null,
            "min_height": null,
            "min_width": null,
            "object_fit": null,
            "object_position": null,
            "order": null,
            "overflow": null,
            "overflow_x": null,
            "overflow_y": null,
            "padding": null,
            "right": null,
            "top": null,
            "visibility": null,
            "width": null
          }
        },
        "e1231f85416f40ae9e5e022acdfaa493": {
          "model_module": "@jupyter-widgets/controls",
          "model_module_version": "1.5.0",
          "model_name": "HTMLModel",
          "state": {
            "_dom_classes": [],
            "_model_module": "@jupyter-widgets/controls",
            "_model_module_version": "1.5.0",
            "_model_name": "HTMLModel",
            "_view_count": null,
            "_view_module": "@jupyter-widgets/controls",
            "_view_module_version": "1.5.0",
            "_view_name": "HTMLView",
            "description": "",
            "description_tooltip": null,
            "layout": "IPY_MODEL_c8817248caa943cfb28976064838076b",
            "placeholder": "​",
            "style": "IPY_MODEL_3f72723c2a874786b2b74f6a2d1a5dae",
            "value": " 159292/159292 [33:09&lt;00:00, 84.48it/s]"
          }
        },
        "f66fbff6b3b047c89da523f709eb8e80": {
          "model_module": "@jupyter-widgets/controls",
          "model_module_version": "1.5.0",
          "model_name": "HTMLModel",
          "state": {
            "_dom_classes": [],
            "_model_module": "@jupyter-widgets/controls",
            "_model_module_version": "1.5.0",
            "_model_name": "HTMLModel",
            "_view_count": null,
            "_view_module": "@jupyter-widgets/controls",
            "_view_module_version": "1.5.0",
            "_view_name": "HTMLView",
            "description": "",
            "description_tooltip": null,
            "layout": "IPY_MODEL_5cf2179d15074513b47f42ea02c2362c",
            "placeholder": "​",
            "style": "IPY_MODEL_3b62949604a04cee953759934b57623f",
            "value": "  0%"
          }
        }
      }
    }
  },
  "nbformat": 4,
  "nbformat_minor": 0
}